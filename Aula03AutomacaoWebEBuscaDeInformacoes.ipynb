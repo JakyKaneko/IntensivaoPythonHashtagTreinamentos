{
 "cells": [
  {
   "cell_type": "code",
   "execution_count": null,
   "id": "358e03c0-4614-48f5-823a-a4fc71ccb9cf",
   "metadata": {},
   "outputs": [],
   "source": [
    "#Aula03: Automação Web e Busca de Informações com Python\n",
    "\n",
    "#Desafio:\n",
    "#Trabalhamos em uma importadora e compramos e vendemos commodities:\n",
    "\n",
    "#Soja, Milho, Trigo, Petróleo, etc.\n",
    "#Precisamos pegar na internet, de forma automática, a cotação de todas as commodites e ver se ela está abaixo do nosso preço ideal de compra. Se tiver, precisamos marcar como uma ação de compra para a equipe de operações.\n",
    "\n",
    "#Base de Dados: https://drive.google.com/drive/folders/1O9aE_Hen5smf_a6TsbVF6DM0ms4Ykj6s?usp=share_link\n",
    "\n",
    "#Para isso, vamos criar uma automação web:\n",
    "\n",
    "#Usaremos o selenium\n",
    "#Importante: baixar o webdriver"
   ]
  },
  {
   "cell_type": "code",
   "execution_count": null,
   "id": "17192893-fdf4-405c-8e3d-ee39f0c6925a",
   "metadata": {},
   "outputs": [],
   "source": [
    "# firefox -> geckodriver\n",
    "# chrome -> chromedriver\n",
    "\n",
    "# Passo a Passo\n",
    "# Passo 1: Abrir o navegador\n",
    "from selenium import webdriver\n",
    "navegador = webdriver.Chrome()\n",
    "navegador.get(\"https://www.google.com/\")"
   ]
  },
  {
   "cell_type": "code",
   "execution_count": null,
   "id": "5e5f2926-18fe-4d3e-b70b-1403be1c9b32",
   "metadata": {},
   "outputs": [],
   "source": [
    "# Passo 2: Importar a base de dados\n",
    "import pandas as pd\n",
    "\n",
    "tabela = pd.read_excel(\"commodities.xlsx\")\n",
    "display(tabela)"
   ]
  },
  {
   "cell_type": "code",
   "execution_count": null,
   "id": "0d814649-156f-4f61-92c6-a6d9e57b9dfb",
   "metadata": {},
   "outputs": [],
   "source": [
    "# import unicodedata\n",
    "# produto = unicodedata.normalize(\"NFKD\", produto).encode(\"ascii\", \"ignore\")\n",
    "\n",
    "for linha in tabela.index:\n",
    "    produto = tabela.loc[linha, \"Produto\"]\n",
    "    \n",
    "    print(produto)\n",
    "    produto = produto.replace(\"ó\", \"o\").replace(\"ã\", \"a\").replace(\"á\", \"a\").replace(\n",
    "    \"ç\", \"c\").replace(\"ú\", \"u\").replace(\"é\", \"e\")\n",
    "    \n",
    "    link = f\"https://www.melhorcambio.com/{produto}-hoje\"\n",
    "    print(link)\n",
    "    navegador.get(link)\n",
    "\n",
    "    preco = navegador.find_element('xpath', '//*[@id=\"comercial\"]').get_attribute('value')\n",
    "    preco = preco.replace(\".\", \"\").replace(\",\", \".\")\n",
    "    print(preco)\n",
    "    tabela.loc[linha, \"Preço Atual\"] = float(preco)\n",
    "    \n",
    "    \n",
    "print(\"Acabou\")\n",
    "display(tabela)\n",
    "    \n",
    "# .click() -> clicar\n",
    "# .send_keys(\"texto\") -> escrever\n",
    "# .get_attribute() -> pegar um valor\n",
    "\n",
    "# Passo 3: Para cada produto da base de dados\n",
    "# Passo 4: Pesquisar o preço do produto\n",
    "# Passo 5: Atualizar o preço na base de dados\n",
    "# Passo 6: Decidir quais produtos comprar"
   ]
  },
  {
   "cell_type": "code",
   "execution_count": null,
   "id": "ceb33e90-9f8b-4ea8-ba55-fbcacff08afe",
   "metadata": {},
   "outputs": [],
   "source": [
    "# preencher a coluna de comprar\n",
    "tabela[\"Comprar\"] = tabela[\"Preço Atual\"] < tabela[\"Preço Ideal\"]\n",
    "display(tabela)\n",
    "\n",
    "# exportar a base para o excel\n",
    "tabela.to_excel(\"commodities_atualizado.xlsx\", index=False)"
   ]
  },
  {
   "cell_type": "code",
   "execution_count": null,
   "id": "ab86752d-45a0-4b57-af13-c8586ab9f71e",
   "metadata": {},
   "outputs": [],
   "source": [
    "navegador.quit()"
   ]
  }
 ],
 "metadata": {
  "kernelspec": {
   "display_name": "Python 3 (ipykernel)",
   "language": "python",
   "name": "python3"
  },
  "language_info": {
   "codemirror_mode": {
    "name": "ipython",
    "version": 3
   },
   "file_extension": ".py",
   "mimetype": "text/x-python",
   "name": "python",
   "nbconvert_exporter": "python",
   "pygments_lexer": "ipython3",
   "version": "3.11.2"
  }
 },
 "nbformat": 4,
 "nbformat_minor": 5
}
