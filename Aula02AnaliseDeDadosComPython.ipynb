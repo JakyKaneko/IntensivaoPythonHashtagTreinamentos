{
 "cells": [
  {
   "cell_type": "code",
   "execution_count": null,
   "id": "2a9e5db1-69b6-41de-bbda-aaa89ea27045",
   "metadata": {},
   "outputs": [],
   "source": [
    "#Aula02: Análise de Dados com Python\n",
    "\n",
    "#Desafio:\n",
    "#Você trabalha em uma empresa do varejo e tem milhares de clientes diferentes.\n",
    "#Com o objetivo de aumentar o faturamento e o lucro da sua empresa, a diretoria quer conseguir identificar quem é o cliente ideal para seus produtos, baseado no histórico de compras dos clientes.\n",
    "#Para isso, ela fez um trabalho de classificar os clientes com uma nota de 1 a 100. Só que agora, sobrou para você conseguir, a partir dessa nota, descobrir qual o perfil de cliente ideal da empresa.\n",
    "#Qual a profissão? Qual a idade? Qual a faixa de renda? E todas as informações que você puder analisar para dizer qual o cliente ideal da empresa.\n",
    "#Base de Dados: https://drive.google.com/drive/folders/1T7D0BlWkNuy_MDpUHuBG44kT80EmRYIs?usp=share_link"
   ]
  },
  {
   "cell_type": "code",
   "execution_count": null,
   "id": "c8985ce9-223c-4366-b008-4407774e951b",
   "metadata": {},
   "outputs": [],
   "source": [
    "# Passo a passo\n",
    "\n",
    "# Passo 1: Importar a base de dados\n",
    "import pandas as pd\n",
    "\n",
    "tabela = pd.read_csv(\"clientes.csv\", encoding=\"latin\", sep=\";\")\n",
    "# deletar a coluna inútil\n",
    "\n",
    "# axis = 0 - se for linha ; axis = 1 se for coluna\n",
    "tabela = tabela.drop(\"Unnamed: 8\", axis=1)\n",
    "\n",
    "# Passo 2: Visualizar a base de dados\n",
    "    # Entender as informações que você tem disponível\n",
    "    # Procurar cagadas na base de dados\n",
    "display(tabela)"
   ]
  },
  {
   "cell_type": "code",
   "execution_count": null,
   "id": "00c19b1b-7cff-40b7-ba78-c09b587ad929",
   "metadata": {},
   "outputs": [],
   "source": [
    "# Passo 3: Tratamento de Dados\n",
    "\n",
    "# acertar informações que estão sendo reconhecidas de forma errada\n",
    "tabela[\"Salário Anual (R$)\"] = pd.to_numeric(tabela[\"Salário Anual (R$)\"], errors=\"coerce\")\n",
    "\n",
    "\n",
    "# corrigir informações vazias\n",
    "# display(tabela[tabela[\"Profissão\"].isna()])\n",
    "\n",
    "tabela = tabela.dropna()\n",
    "print(tabela.info())"
   ]
  },
  {
   "cell_type": "code",
   "execution_count": null,
   "id": "001e6cb0-a3d7-4b0d-b1a7-c51bb332eadb",
   "metadata": {},
   "outputs": [],
   "source": [
    "# Passo 4: Análise Inicial -> Entender as notas dos clientes\n",
    "display(tabela.describe())"
   ]
  },
  {
   "cell_type": "code",
   "execution_count": null,
   "id": "f705169c-19c4-446a-8c1d-f0c66e71b5aa",
   "metadata": {},
   "outputs": [],
   "source": [
    "# quanto maior o salário, maior a nota\n",
    "# clientes de promoção são piores\n",
    "import plotly.express as px\n",
    "\n",
    "# cria o grafico\n",
    "\n",
    "# Passo 5: Análise Completa -> entender como cada característica do cliente impacta na nota\n",
    "for coluna in tabela.columns:\n",
    "    grafico = px.histogram(tabela, x=coluna, y=\"Nota (1-100)\", histfunc=\"avg\", text_auto=True, nbins=10)\n",
    "    # exibe o gráfico\n",
    "    grafico.show()"
   ]
  },
  {
   "cell_type": "code",
   "execution_count": null,
   "id": "bd258254-76bd-407f-b2f3-3baade6226c4",
   "metadata": {},
   "outputs": [],
   "source": [
    "# Perfil ideal de cliente\n",
    "# Acima de 15 anos (não tem muita diferença entra as faixas etárias depois disso)\n",
    "# Faixa salarial não parece fazer tanta diferença\n",
    "# Áreas de trabalho: Entretenimento e Artista (evitar Construção)\n",
    "# Tem entre 10 e 15 anos de experiência\n",
    "# Com familías não tão grandes (até no máximo 7 pessoas)"
   ]
  },
  {
   "cell_type": "code",
   "execution_count": null,
   "id": "3267b093-e053-4d38-aee9-17f3b24e1ebc",
   "metadata": {},
   "outputs": [],
   "source": []
  }
 ],
 "metadata": {
  "kernelspec": {
   "display_name": "Python 3 (ipykernel)",
   "language": "python",
   "name": "python3"
  },
  "language_info": {
   "codemirror_mode": {
    "name": "ipython",
    "version": 3
   },
   "file_extension": ".py",
   "mimetype": "text/x-python",
   "name": "python",
   "nbconvert_exporter": "python",
   "pygments_lexer": "ipython3",
   "version": "3.11.2"
  }
 },
 "nbformat": 4,
 "nbformat_minor": 5
}
